{
 "cells": [
  {
   "cell_type": "code",
   "execution_count": null,
   "metadata": {},
   "outputs": [],
   "source": [
    "import pandas as pd\n",
    "import numpy as np\n",
    "import os\n",
    "import json \n",
    "\n",
    "path = os.getcwd()\n",
    "ano = 2016\n",
    "for i in range(3):\n",
    "    print(\"Iniciando extração do ano \"+str(ano));\n",
    "    data = path+'/bases/export_transparencia_'+str(ano)+'.csv'\n",
    "    dataset = pd.read_csv(data, sep=\";\")\n",
    "    dataset['Preco_Maximo'] = dataset['Preco_Maximo'].apply(lambda x: 0.0 if(x=='-') else float(x))\n",
    "    grupos = dataset[['UG_Sigla', 'Edital/Registro', 'Objeto', 'Empresa', 'Situacao_Objeto', 'Preco_Maximo']].values.tolist()\n",
    "    \n",
    "    print(\"Organizando os dados no formato JSON\")  \n",
    "    dados = []\n",
    "    for i in range(len(grupos)):\n",
    "        dados.append({'ano': str(ano),'sigla':grupos[i][0], 'edital':grupos[i][1], \n",
    "                      'objeto':grupos[i][2], 'empresa': grupos[i][3], \n",
    "                      'situacao':grupos[i][4], 'valor':grupos[i][5]})        \n",
    "           \n",
    "    print(\"Gravando os dados em um arquivo JSON\")\n",
    "    jsonFile = path+'/json_edital/valor_edital_'+str(ano)+'.json'\n",
    "    with open(jsonFile, 'w', encoding='utf-8') as file:\n",
    "        json.dump(dados, file,  ensure_ascii=False)\n",
    "\n",
    "    print(\"valor_edital_\"+str(ano)+\".json gerado\")\n",
    "    ano = ano + 1\n",
    "print(\"OrgaosDenunciados.py terminado\")  \n",
    "    "
   ]
  }
 ],
 "metadata": {
  "kernelspec": {
   "display_name": "Python 3",
   "language": "python",
   "name": "python3"
  },
  "language_info": {
   "codemirror_mode": {
    "name": "ipython",
    "version": 3
   },
   "file_extension": ".py",
   "mimetype": "text/x-python",
   "name": "python",
   "nbconvert_exporter": "python",
   "pygments_lexer": "ipython3",
   "version": "3.6.6"
  }
 },
 "nbformat": 4,
 "nbformat_minor": 2
}
