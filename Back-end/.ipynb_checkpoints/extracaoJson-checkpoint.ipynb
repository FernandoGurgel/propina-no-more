{
 "cells": [
  {
   "cell_type": "code",
   "execution_count": 35,
   "metadata": {},
   "outputs": [
    {
     "name": "stdout",
     "output_type": "stream",
     "text": [
      "Extração concluída\n"
     ]
    }
   ],
   "source": [
    "import pandas as pd\n",
    "import numpy as np\n",
    "data = 'https://raw.githubusercontent.com/FernandoGurgel/propina-no-more/master/bases/export_transparencia_2018.csv'\n",
    "dataset = pd.read_csv(data, sep=\";\")\n",
    "print(\"Extração concluída\")\n"
   ]
  },
  {
   "cell_type": "code",
   "execution_count": 60,
   "metadata": {},
   "outputs": [],
   "source": [
    "unidades = dataset['UG_Sigla']\n",
    "teste = dataset.groupby(['UG_Sigla','UG_Nome']).size()\n",
    "#teste_json = teste.to_json(orient='table')\n",
    "import json\n",
    "# with open('orgaos.json', 'w', encoding='utf-8') as f:\n",
    "#   json.dump(teste_json, f, ensure_ascii=False)\n",
    "\n",
    "with open('orgaos.json', 'w', encoding='utf-8') as file:\n",
    "    teste.to_json(file, force_ascii=False)"
   ]
  },
  {
   "cell_type": "code",
   "execution_count": 54,
   "metadata": {},
   "outputs": [
    {
     "data": {
      "text/plain": [
       "Index(['Edital/Registro', 'UG', 'UG_Sigla', 'UG_Nome', 'Objeto',\n",
       "       'Situacao_Objeto', 'Item', 'Nome_Item', 'Situacao_Item', 'Unidade',\n",
       "       'Quantidade_licitada_Item', 'Preco_Maximo', 'Empresa'],\n",
       "      dtype='object')"
      ]
     },
     "execution_count": 54,
     "metadata": {},
     "output_type": "execute_result"
    }
   ],
   "source": [
    "dataset.columns"
   ]
  },
  {
   "cell_type": "code",
   "execution_count": 51,
   "metadata": {},
   "outputs": [
    {
     "data": {
      "text/plain": [
       "'{\"schema\": {\"fields\":[{\"name\":\"UG_Sigla\",\"type\":\"string\"},{\"name\":\"values\",\"type\":\"integer\"}],\"primaryKey\":[\"UG_Sigla\"],\"pandas_version\":\"0.20.0\"}, \"data\": [{\"UG_Sigla\":\"AADC\",\"values\":6},{\"UG_Sigla\":\"AADES\",\"values\":129},{\"UG_Sigla\":\"ADAF\",\"values\":108},{\"UG_Sigla\":\"ADFEAM\",\"values\":24},{\"UG_Sigla\":\"AMAZONASTUR\",\"values\":16},{\"UG_Sigla\":\"AMAZONPREV\",\"values\":302},{\"UG_Sigla\":\"ARSAM\",\"values\":158},{\"UG_Sigla\":\"CASA CIVIL\",\"values\":193},{\"UG_Sigla\":\"CASA MILITAR\",\"values\":130},{\"UG_Sigla\":\"CBMAM\",\"values\":323},{\"UG_Sigla\":\"CEMA\",\"values\":527},{\"UG_Sigla\":\"CETAM\",\"values\":1203},{\"UG_Sigla\":\"CGE\",\"values\":52},{\"UG_Sigla\":\"CGL\",\"values\":141},{\"UG_Sigla\":\"CHAPOT PREVOST\",\"values\":419},{\"UG_Sigla\":\"CPER\",\"values\":310},{\"UG_Sigla\":\"DEFESA CIVIL\",\"values\":137},{\"UG_Sigla\":\"DETRAN-AM\",\"values\":658},{\"UG_Sigla\":\"ERGSP\",\"values\":4},{\"UG_Sigla\":\"FAPEAM\",\"values\":200},{\"UG_Sigla\":\"FCECON\",\"values\":3206},{\"UG_Sigla\":\"FEAS\",\"values\":602},{\"UG_Sigla\":\"FECA\",\"values\":10},{\"UG_Sigla\":\"FEEL\",\"values\":60},{\"UG_Sigla\":\"FEI\",\"values\":206},{\"UG_Sigla\":\"FERF\",\"values\":53},{\"UG_Sigla\":\"FERH\",\"values\":40},{\"UG_Sigla\":\"FES\",\"values\":14},{\"UG_Sigla\":\"FHAJ\",\"values\":2142},{\"UG_Sigla\":\"FHEMOAM\",\"values\":2067},{\"UG_Sigla\":\"FMT\",\"values\":1512},{\"UG_Sigla\":\"FPEAM\",\"values\":106},{\"UG_Sigla\":\"FRAI-SSP\",\"values\":143},{\"UG_Sigla\":\"FUAM\",\"values\":819},{\"UG_Sigla\":\"FUNDECC\",\"values\":98},{\"UG_Sigla\":\"FUNDO SEFAZ\",\"values\":28},{\"UG_Sigla\":\"FUNDPGE\",\"values\":192},{\"UG_Sigla\":\"FUNESBOM\",\"values\":131},{\"UG_Sigla\":\"FUNTEC\",\"values\":557},{\"UG_Sigla\":\"FVS\\\\/AM\",\"values\":2928},{\"UG_Sigla\":\"H. I. Dr Fajardo\",\"values\":376},{\"UG_Sigla\":\"HGGR\",\"values\":450},{\"UG_Sigla\":\"HPS JLUCIO\",\"values\":1304},{\"UG_Sigla\":\"HPSC  LESTE\",\"values\":1097},{\"UG_Sigla\":\"HPSC OESTE\",\"values\":1424},{\"UG_Sigla\":\"ICAM\",\"values\":708},{\"UG_Sigla\":\"IDAM\",\"values\":596},{\"UG_Sigla\":\"IM\",\"values\":1294},{\"UG_Sigla\":\"IMPEAM\",\"values\":1315},{\"UG_Sigla\":\"IPAAM\",\"values\":236},{\"UG_Sigla\":\"IPEM\",\"values\":4},{\"UG_Sigla\":\"JUCEA\",\"values\":216},{\"UG_Sigla\":\"MAT ANA BRAGA\",\"values\":555},{\"UG_Sigla\":\"MATERNIDADE ALVORADA\",\"values\":730},{\"UG_Sigla\":\"MATERNIDADE AZILDA MARREIRO\",\"values\":593},{\"UG_Sigla\":\"MATERNIDADE BALBINA\",\"values\":467},{\"UG_Sigla\":\"MATERNIDADE NAZIRA DAOU\",\"values\":772},{\"UG_Sigla\":\"OUVIDORIA\",\"values\":19},{\"UG_Sigla\":\"PAM CENTRO\",\"values\":68},{\"UG_Sigla\":\"PAM CODAJAS\",\"values\":608},{\"UG_Sigla\":\"PGE\",\"values\":49},{\"UG_Sigla\":\"PLAALX\",\"values\":555},{\"UG_Sigla\":\"POLICLINICA ZENO LANZINI\",\"values\":278},{\"UG_Sigla\":\"POLICL\\\\u00cdNICA DANILO CORREA\",\"values\":682},{\"UG_Sigla\":\"POLICL\\\\u00cdNICA JOS\\\\u00c9 LINS\",\"values\":574},{\"UG_Sigla\":\"POLICL\\\\u00cdNICA JO\\\\u00c3O BRAGA\",\"values\":429},{\"UG_Sigla\":\"POL\\\\u00cdCIA CIVIL\",\"values\":420},{\"UG_Sigla\":\"POL\\\\u00cdCIA MILITAR\",\"values\":583},{\"UG_Sigla\":\"PS 28 AGOSTO\",\"values\":722},{\"UG_Sigla\":\"PSC  SUL\",\"values\":1202},{\"UG_Sigla\":\"SEAD\",\"values\":199},{\"UG_Sigla\":\"SEAP\",\"values\":214},{\"UG_Sigla\":\"SEAS\",\"values\":402},{\"UG_Sigla\":\"SEC\",\"values\":185},{\"UG_Sigla\":\"SECOM\",\"values\":27},{\"UG_Sigla\":\"SEDUC\",\"values\":3468},{\"UG_Sigla\":\"SEFAZ\",\"values\":6774},{\"UG_Sigla\":\"SEFAZ  ENCARGOS\",\"values\":6},{\"UG_Sigla\":\"SEINF\",\"values\":349},{\"UG_Sigla\":\"SEJEL\",\"values\":264},{\"UG_Sigla\":\"SEJUSC\",\"values\":194},{\"UG_Sigla\":\"SEMA\",\"values\":258},{\"UG_Sigla\":\"SEPED\",\"values\":25},{\"UG_Sigla\":\"SEPLANCTI\",\"values\":110},{\"UG_Sigla\":\"SEPROR\",\"values\":396},{\"UG_Sigla\":\"SERINS\",\"values\":33},{\"UG_Sigla\":\"SETRAB\",\"values\":413},{\"UG_Sigla\":\"SNPH\",\"values\":68},{\"UG_Sigla\":\"SPA ALVORADA\",\"values\":907},{\"UG_Sigla\":\"SPA COROADO\",\"values\":631},{\"UG_Sigla\":\"SPA E HOSPITAL DR. PLAT\\\\u00c3O\",\"values\":905},{\"UG_Sigla\":\"SPA ELIAMEME RODRIGUES MADY\",\"values\":578},{\"UG_Sigla\":\"SPA JOVENTINA DIAS\",\"values\":1124},{\"UG_Sigla\":\"SPA S\\\\u00c3O RAIMUNDO\",\"values\":679},{\"UG_Sigla\":\"SPA ZONA SUL\",\"values\":1775},{\"UG_Sigla\":\"SPF\",\"values\":38},{\"UG_Sigla\":\"SRMM\",\"values\":344},{\"UG_Sigla\":\"SSP\",\"values\":701},{\"UG_Sigla\":\"SUHAB\",\"values\":380},{\"UG_Sigla\":\"SUSAM\",\"values\":5065},{\"UG_Sigla\":\"UEA\",\"values\":746},{\"UG_Sigla\":\"UGPE\",\"values\":71},{\"UG_Sigla\":\"VICE-GOVERNADORIA\",\"values\":118}]}'"
      ]
     },
     "execution_count": 51,
     "metadata": {},
     "output_type": "execute_result"
    }
   ],
   "source": []
  }
 ],
 "metadata": {
  "kernelspec": {
   "display_name": "Python 3",
   "language": "python",
   "name": "python3"
  },
  "language_info": {
   "codemirror_mode": {
    "name": "ipython",
    "version": 3
   },
   "file_extension": ".py",
   "mimetype": "text/x-python",
   "name": "python",
   "nbconvert_exporter": "python",
   "pygments_lexer": "ipython3",
   "version": "3.6.5"
  }
 },
 "nbformat": 4,
 "nbformat_minor": 2
}
