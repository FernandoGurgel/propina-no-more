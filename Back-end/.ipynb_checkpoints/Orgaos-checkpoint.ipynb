{
 "cells": [
  {
   "cell_type": "code",
   "execution_count": null,
   "metadata": {},
   "outputs": [],
   "source": [
    "import pandas as pd\n",
    "import numpy as np\n",
    "import json\n",
    "import os\n",
    "\n",
    "path = os.getcwd()\n",
    "print(\"1 - Iniciando extração\")\n",
    "data = path+'/bases/export_transparencia_2018.csv'\n",
    "print(data)\n",
    "dataset = pd.read_csv(data, sep=\";\")\n",
    "\n",
    "unidades = dataset['UG_Sigla']\n",
    "teste = dataset.groupby(['UG_Sigla','UG_Nome'])['UG_Sigla','UG_Nome']\n",
    "\n",
    "print(\"2 - Organizando os ddos em JSON\")\n",
    "t = dict(teste.count()['UG_Sigla'])\n",
    "dados = []\n",
    "for i in t.keys():\n",
    "    dados.append({'sigla': i[0], 'nome': i[1]}) \n",
    "#     print(i[1])\n",
    "\n",
    "print(\"3 - Gravando arquivo JSON\")\n",
    "arquivo = path+'/json/orgaos.json'\n",
    "with open(arquivo, 'w', encoding='utf-8') as file:\n",
    "    json.dump(dados, file,  ensure_ascii=False)  \n",
    "    \n",
    "print(\"Arquivo \"+arquivo+\" gerado com sucesso!\")\n"
   ]
  }
 ],
 "metadata": {
  "kernelspec": {
   "display_name": "Python 3",
   "language": "python",
   "name": "python3"
  },
  "language_info": {
   "codemirror_mode": {
    "name": "ipython",
    "version": 3
   },
   "file_extension": ".py",
   "mimetype": "text/x-python",
   "name": "python",
   "nbconvert_exporter": "python",
   "pygments_lexer": "ipython3",
   "version": "3.6.6"
  }
 },
 "nbformat": 4,
 "nbformat_minor": 2
}
