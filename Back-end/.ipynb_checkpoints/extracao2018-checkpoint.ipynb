{
 "cells": [
  {
   "cell_type": "code",
   "execution_count": 2,
   "metadata": {},
   "outputs": [
    {
     "name": "stdout",
     "output_type": "stream",
     "text": [
      "Extração concluída\n"
     ]
    }
   ],
   "source": [
    "import pandas as pd\n",
    "import numpy as np\n",
    "data = 'https://raw.githubusercontent.com/FernandoGurgel/propina-no-more/master/bases/export_transparencia_2018.csv'\n",
    "dataset = pd.read_csv(data, sep=\";\")\n",
    "print(\"Extração concluída\")"
   ]
  },
  {
   "cell_type": "markdown",
   "metadata": {},
   "source": [
    "Ordenamento e tratamento dos valores numéricos"
   ]
  },
  {
   "cell_type": "code",
   "execution_count": 4,
   "metadata": {},
   "outputs": [
    {
     "name": "stdout",
     "output_type": "stream",
     "text": [
      "Dados numéricos convertidos em float\n"
     ]
    }
   ],
   "source": [
    "#Ordenação dos valores numéricos e cálculo dos valores máximos\n",
    "dataset[(dataset['UG_Sigla'] == 'AADES') & (dataset['Situacao_Objeto'] == 'Aguardando Homologação') ]['Preco_Maximo'].values.astype(np.float32).sum()\n",
    "dataset['Preco_Maximo'] = dataset['Preco_Maximo'].apply(lambda x: 0.0 if(x=='-') else float(x))\n",
    "print(\"Dados numéricos convertidos em float\")"
   ]
  },
  {
   "cell_type": "code",
   "execution_count": 5,
   "metadata": {},
   "outputs": [
    {
     "name": "stdout",
     "output_type": "stream",
     "text": [
      "Criação de um dataset\n"
     ]
    }
   ],
   "source": [
    "#Organização dos dados \n",
    "teste = dataset.groupby(['UG_Sigla','Situacao_Objeto', 'Preco_Maximo']).size().to_frame('size')\n",
    "teste.agg('sum')\n",
    "print(\"Criação de um dataset\")"
   ]
  },
  {
   "cell_type": "code",
   "execution_count": null,
   "metadata": {},
   "outputs": [],
   "source": [
    "teste = dataset.groupby(['UG_Sigla','Situacao_Objeto'])['Preco_Maximo']#.apply(pd.to_numeric)\n",
    "# pd.to_numeric(teste,errors='ignore')  \n",
    "# teste.agg(['sum'])\n",
    "teste.agg('sum')\n",
    "# teste.columns\n",
    "# 219210.89"
   ]
  },
  {
   "cell_type": "code",
   "execution_count": null,
   "metadata": {},
   "outputs": [],
   "source": [
    "#Json\n",
    "teste_json = teste.to_json(orient='table')\n",
    "with open ('dados.txt', 'w') as f:\n",
    "    f.write(teste_json)"
   ]
  }
 ],
 "metadata": {
  "kernelspec": {
   "display_name": "Python 3",
   "language": "python",
   "name": "python3"
  },
  "language_info": {
   "codemirror_mode": {
    "name": "ipython",
    "version": 3
   },
   "file_extension": ".py",
   "mimetype": "text/x-python",
   "name": "python",
   "nbconvert_exporter": "python",
   "pygments_lexer": "ipython3",
   "version": "3.6.5"
  }
 },
 "nbformat": 4,
 "nbformat_minor": 2
}
