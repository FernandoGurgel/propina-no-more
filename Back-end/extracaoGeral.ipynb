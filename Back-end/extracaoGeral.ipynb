{
 "cells": [
  {
   "cell_type": "code",
   "execution_count": 1,
   "metadata": {},
   "outputs": [
    {
     "name": "stdout",
     "output_type": "stream",
     "text": [
      "Extração concluída\n"
     ]
    }
   ],
   "source": [
    "import pandas as pd\n",
    "import numpy as np\n",
    "data = 'https://raw.githubusercontent.com/FernandoGurgel/propina-no-more/master/bases/export_transparencia_2018.csv'\n",
    "dataset = pd.read_csv(data, sep=\";\")\n",
    "print(\"Extração concluída\")"
   ]
  },
  {
   "cell_type": "code",
   "execution_count": null,
   "metadata": {},
   "outputs": [],
   "source": [
    "dataset\n",
    "#dataset[dataset['Situacao_Item'] == 'Pendente']"
   ]
  },
  {
   "cell_type": "markdown",
   "metadata": {},
   "source": [
    "Ordenamento e tratamento dos valores numéricos"
   ]
  },
  {
   "cell_type": "code",
   "execution_count": 2,
   "metadata": {},
   "outputs": [
    {
     "name": "stdout",
     "output_type": "stream",
     "text": [
      "Dados numéricos convertidos em float\n"
     ]
    }
   ],
   "source": [
    "#Ordenação dos valores numéricos e cálculo dos valores máximos\n",
    "dataset[(dataset['UG_Sigla'] == 'AADES') & (dataset['Situacao_Objeto'] == 'Aguardando Homologação') ]['Preco_Maximo'].values.astype(np.float32).sum()\n",
    "dataset['Preco_Maximo'] = dataset['Preco_Maximo'].apply(lambda x: 0.0 if(x=='-') else float(x))\n",
    "print(\"Dados numéricos convertidos em float\")"
   ]
  },
  {
   "cell_type": "code",
   "execution_count": null,
   "metadata": {},
   "outputs": [],
   "source": [
    "#Organização dos dados \n",
    "teste = dataset.groupby(['UG_Sigla','Situacao_Objeto']).size().to_frame('size')\n",
    "print(teste)\n",
    "\n",
    "#teste.agg('sum')\n",
    "#print(\"Criação de um dataset\")"
   ]
  },
  {
   "cell_type": "code",
   "execution_count": 3,
   "metadata": {},
   "outputs": [
    {
     "data": {
      "text/plain": [
       "UG_Sigla           Situacao_Objeto                \n",
       "AADC               Disponível                         0.000000e+00\n",
       "AADES              Aguardando Homologação             4.541954e+05\n",
       "                   Anulado / Revogado                 0.000000e+00\n",
       "                   Deserta                            1.810056e+04\n",
       "                   Finalizado                         6.578900e+02\n",
       "                   Fracassada                         1.502082e+04\n",
       "                   Homologado Total                   1.568624e+05\n",
       "                   Suspensa                           0.000000e+00\n",
       "ADAF               Adjudicação                        1.835821e+05\n",
       "                   Anulado / Revogado                 0.000000e+00\n",
       "                   Avaliação Recursal                 0.000000e+00\n",
       "                   Deserta                            1.010000e+01\n",
       "                   Finalizado                         1.367490e+03\n",
       "                   Fracassada                         1.187433e+04\n",
       "                   Homologado Total                   8.100899e+05\n",
       "                   Suspensão Recursal                 0.000000e+00\n",
       "ADFEAM             Aguardando Homologação             6.224779e+05\n",
       "                   Classificação                      0.000000e+00\n",
       "                   Deserta                            1.288691e+05\n",
       "AMAZONASTUR        Homologado Total                   2.861900e+03\n",
       "AMAZONPREV         Adjudicação                        2.186667e+05\n",
       "                   Aguardando Homologação             8.693120e+03\n",
       "                   Anulado / Revogado                 0.000000e+00\n",
       "                   Classificação                      0.000000e+00\n",
       "                   Classificação Final                0.000000e+00\n",
       "                   Deserta                            1.032178e+06\n",
       "                   Finalizado                         5.548494e+04\n",
       "                   Fracassada                         2.376132e+06\n",
       "                   Homologado Total                   4.257584e+06\n",
       "                   Suspensa                           0.000000e+00\n",
       "                                                          ...     \n",
       "SUSAM              Anulado / Revogado                 0.000000e+00\n",
       "                   Avaliação Recursal                 0.000000e+00\n",
       "                   Classificação                      0.000000e+00\n",
       "                   Classificação de Lances            0.000000e+00\n",
       "                   Declaração de Vencedores           0.000000e+00\n",
       "                   Deserta                            1.505530e+06\n",
       "                   Em Negociação                      0.000000e+00\n",
       "                   Finalizado                         1.840014e+07\n",
       "                   Fracassada                         3.544125e+06\n",
       "                   Homologado Total                   1.936163e+08\n",
       "                   Homologação                        1.760000e+03\n",
       "                   Inscrição de Propostas             0.000000e+00\n",
       "                   Reinscrição de Propostas           0.000000e+00\n",
       "                   Suspensa                           0.000000e+00\n",
       "                   Suspensão Recursal                 0.000000e+00\n",
       "UEA                Adjudicação                        3.031798e+04\n",
       "                   Aguardando Homologação             6.582380e+06\n",
       "                   Aguardando Manifestação da SEAD    0.000000e+00\n",
       "                   Anulado / Revogado                 0.000000e+00\n",
       "                   Finalizado                         1.501399e+06\n",
       "                   Fracassada                         6.120659e+05\n",
       "                   Homologado Total                   6.931473e+07\n",
       "                   Não Liberado pela SEFAZ            0.000000e+00\n",
       "                   Suspensa                           0.000000e+00\n",
       "UGPE               Anulado / Revogado                 0.000000e+00\n",
       "                   Finalizado                         7.673434e+05\n",
       "                   Fracassada                         3.757370e+04\n",
       "                   Homologado Total                   3.022368e+05\n",
       "VICE-GOVERNADORIA  Anulado / Revogado                 0.000000e+00\n",
       "                   Homologado Total                   1.772357e+04\n",
       "Name: Preco_Maximo, Length: 774, dtype: float64"
      ]
     },
     "execution_count": 3,
     "metadata": {},
     "output_type": "execute_result"
    }
   ],
   "source": [
    "teste = dataset.groupby(['UG_Sigla','Situacao_Objeto'])['Preco_Maximo']#.apply(pd.to_numeric)\n",
    "# pd.to_numeric(teste,errors='ignore')  \n",
    "# teste.agg(['sum'])\n",
    "teste.agg('sum')\n",
    "# teste.columns\n",
    "# 219210.89"
   ]
  },
  {
   "cell_type": "code",
   "execution_count": null,
   "metadata": {},
   "outputs": [],
   "source": [
    "#Json\n",
    "import json\n",
    "with open('data.json', 'w') as f:\n",
    "  json.dump(teste_json, f, ensure_ascii=False)\n",
    "\n",
    "import json\n",
    "with open('dadosGerais.json', 'w', encoding='utf-8') as file:\n",
    "    teste.to_json(file, force_ascii=False)\n",
    "print(\"Terminou\")"
   ]
  },
  {
   "cell_type": "code",
   "execution_count": 4,
   "metadata": {},
   "outputs": [
    {
     "data": {
      "text/plain": [
       "65727"
      ]
     },
     "execution_count": 4,
     "metadata": {},
     "output_type": "execute_result"
    }
   ],
   "source": []
  },
  {
   "cell_type": "code",
   "execution_count": null,
   "metadata": {},
   "outputs": [],
   "source": []
  }
 ],
 "metadata": {
  "kernelspec": {
   "display_name": "Python 3",
   "language": "python",
   "name": "python3"
  },
  "language_info": {
   "codemirror_mode": {
    "name": "ipython",
    "version": 3
   },
   "file_extension": ".py",
   "mimetype": "text/x-python",
   "name": "python",
   "nbconvert_exporter": "python",
   "pygments_lexer": "ipython3",
   "version": "3.6.5"
  }
 },
 "nbformat": 4,
 "nbformat_minor": 2
}
