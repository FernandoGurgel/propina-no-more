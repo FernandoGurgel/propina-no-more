{
 "cells": [
  {
   "cell_type": "code",
   "execution_count": 2,
   "metadata": {},
   "outputs": [
    {
     "name": "stdout",
     "output_type": "stream",
     "text": [
      "Importando dados de 2016\n",
      "Link de extração: https://raw.githubusercontent.com/FernandoGurgel/propina-no-more/master/bases/export_transparencia_2016.csv\n",
      "Convertendo dados de 2016 em float\n",
      "Ordenando os órgãos pelo total de gastos de 2016\n",
      "Dados de 2016 extraídos com sucesso! Json criado: gastometro2016.json\n",
      "\n",
      "Importando dados de 2017\n",
      "Link de extração: https://raw.githubusercontent.com/FernandoGurgel/propina-no-more/master/bases/export_transparencia_2017.csv\n",
      "Convertendo dados de 2017 em float\n",
      "Ordenando os órgãos pelo total de gastos de 2017\n",
      "Dados de 2017 extraídos com sucesso! Json criado: gastometro2017.json\n",
      "\n",
      "Importando dados de 2018\n",
      "Link de extração: https://raw.githubusercontent.com/FernandoGurgel/propina-no-more/master/bases/export_transparencia_2018.csv\n",
      "Convertendo dados de 2018 em float\n",
      "Ordenando os órgãos pelo total de gastos de 2018\n",
      "Dados de 2018 extraídos com sucesso! Json criado: gastometro2018.json\n",
      "\n",
      "Script finalizado\n"
     ]
    }
   ],
   "source": [
    "import pandas as pd\n",
    "import numpy as np\n",
    "import json \n",
    "## Importação dos dados\n",
    "ano = 2016\n",
    "for i in range(3):\n",
    "    print(\"Importando dados de \"+str(ano))\n",
    "    arquivo = 'https://raw.githubusercontent.com/FernandoGurgel/propina-no-more/master/bases/export_transparencia_'+str(ano)+'.csv'\n",
    "    print(\"Link de extração: \"+arquivo)\n",
    "    data = arquivo\n",
    "    dataset = pd.read_csv(data, sep=\";\")\n",
    "\n",
    "    ## Convertendo os valores em float\n",
    "    print(\"Convertendo dados de \"+str(ano)+\" em float\")\n",
    "    dataset['Preco_Maximo'] = dataset['Preco_Maximo'].apply(lambda x: 0.0 if(x=='-') else float(x))\n",
    "    dataset['Preco_Maximo'].values.astype(np.float32).sum()\n",
    "\n",
    "    # Ordenando por ordem de gastadores \n",
    "    print(\"Ordenando os órgãos pelo total de gastos de \"+str(ano))\n",
    "    total = dataset.groupby(['UG_Sigla'])['Preco_Maximo'].sum().reset_index()\n",
    "    total = total.sort_values(by='Preco_Maximo', ascending=False)\n",
    "    \n",
    "    #Organizando os dados em formato json\n",
    "    dados = total.to_dict('records')\n",
    "    listaDados = list(dados)\n",
    "    top4 = []\n",
    "    for i in range(5):\n",
    "        top4.append(listaDados[i])\n",
    "    top4\n",
    "\n",
    "    jsonFile = 'gastometro'+str(ano)+'.json'\n",
    "    with open(jsonFile, 'w', encoding='utf-8') as file:\n",
    "        json.dump(top4, file,  ensure_ascii=False)\n",
    "\n",
    "    print(\"Dados de \"+str(ano)+\" extraídos com sucesso! Json criado: \"+jsonFile+\"\\n\")\n",
    "    ano = ano + 1\n",
    "print(\"Script finalizado\")"
   ]
  }
 ],
 "metadata": {
  "kernelspec": {
   "display_name": "Python 3",
   "language": "python",
   "name": "python3"
  },
  "language_info": {
   "codemirror_mode": {
    "name": "ipython",
    "version": 3
   },
   "file_extension": ".py",
   "mimetype": "text/x-python",
   "name": "python",
   "nbconvert_exporter": "python",
   "pygments_lexer": "ipython3",
   "version": "3.7.0"
  }
 },
 "nbformat": 4,
 "nbformat_minor": 2
}
