{
 "cells": [
  {
   "cell_type": "code",
   "execution_count": 32,
   "metadata": {},
   "outputs": [
    {
     "name": "stdout",
     "output_type": "stream",
     "text": [
      "Iniciando extração do ano 2016\n",
      "Gravando os dados em um arquivo JSON\n",
      "valor_edital_2016.json gerado\n",
      "Iniciando extração do ano 2017\n",
      "Gravando os dados em um arquivo JSON\n",
      "valor_edital_2017.json gerado\n",
      "Iniciando extração do ano 2018\n",
      "Gravando os dados em um arquivo JSON\n",
      "valor_edital_2018.json gerado\n",
      "OrgaosDenunciados.py terminado\n"
     ]
    }
   ],
   "source": [
    "import pandas as pd\n",
    "import numpy as np\n",
    "import os\n",
    "import json \n",
    "\n",
    "path = os.getcwd()\n",
    "ano = 2016\n",
    "for i in range(3):\n",
    "    print(\"Iniciando extração do ano \"+str(ano));\n",
    "    data = path+'/bases/export_transparencia_'+str(ano)+'.csv'\n",
    "    dataset = pd.read_csv(data, sep=\";\")\n",
    "    dataset['Preco_Maximo'] = dataset['Preco_Maximo'].apply(lambda x: 0.0 if(x=='-') else float(x))\n",
    "    \n",
    "    grouped_df = dataset.groupby( [ \"UG_Sigla\", \"Edital/Registro\", \"Empresa\", \"Situacao_Objeto\"] )\n",
    "    grouped_df = pd.DataFrame(grouped_df.size().reset_index(name = \"Group_Count\"))\n",
    "                 \n",
    "    grupo = grouped_df[[\"UG_Sigla\", \"Edital/Registro\", \"Empresa\", \"Situacao_Objeto\"]].values.tolist()\n",
    "    dados = []\n",
    "    valorTotal = 0\n",
    "    for i in range(len(grupo)):\n",
    "        sigla = grupo[i][0]\n",
    "        edital = grupo[i][1]        \n",
    "        empresa = grupo[i][2]\n",
    "        situacao = grupo[i][3]\n",
    "        dados.append({'sigla':sigla,\n",
    "                          'edital':edital,\n",
    "                          'empresa':empresa,\n",
    "                          'situacao':situacao,   \n",
    "                             })\n",
    "\n",
    "    print(\"Gravando os dados em um arquivo JSON\")\n",
    "    jsonFile = path+'/json_edital/valor_edital_'+str(ano)+'.json'\n",
    "    with open(jsonFile, 'w', encoding='utf-8') as file:\n",
    "        json.dump(dados, file,  ensure_ascii=False)\n",
    "\n",
    "    print(\"valor_edital_\"+str(ano)+\".json gerado\")\n",
    "    ano = ano + 1\n",
    "print(\"OrgaosDenunciados.py terminado\")      "
   ]
  },
  {
   "cell_type": "code",
   "execution_count": 30,
   "metadata": {},
   "outputs": [
    {
     "data": {
      "text/plain": [
       "'Anulado / Revogado'"
      ]
     },
     "execution_count": 30,
     "metadata": {},
     "output_type": "execute_result"
    }
   ],
   "source": [
    "grupo[0][3]"
   ]
  },
  {
   "cell_type": "code",
   "execution_count": 16,
   "metadata": {},
   "outputs": [
    {
     "data": {
      "text/plain": [
       "<pandas.core.groupby.groupby.DataFrameGroupBy object at 0x7f55b9c51f98>"
      ]
     },
     "execution_count": 16,
     "metadata": {},
     "output_type": "execute_result"
    }
   ],
   "source": [
    "grouped_df"
   ]
  }
 ],
 "metadata": {
  "kernelspec": {
   "display_name": "Python 3",
   "language": "python",
   "name": "python3"
  },
  "language_info": {
   "codemirror_mode": {
    "name": "ipython",
    "version": 3
   },
   "file_extension": ".py",
   "mimetype": "text/x-python",
   "name": "python",
   "nbconvert_exporter": "python",
   "pygments_lexer": "ipython3",
   "version": "3.6.6"
  }
 },
 "nbformat": 4,
 "nbformat_minor": 2
}
