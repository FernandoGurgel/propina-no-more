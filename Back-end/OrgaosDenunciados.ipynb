{
 "cells": [
  {
   "cell_type": "code",
   "execution_count": 1,
   "metadata": {},
   "outputs": [
    {
     "name": "stdout",
     "output_type": "stream",
     "text": [
      "Iniciando extração do ano 2016\n",
      "Somando os valores e organizando-os\n",
      "Organizando os dados no formato JSON\n",
      "Gravando os dados em um arquivo JSON\n",
      "valor_edital_2016.json gerado\n",
      "Iniciando extração do ano 2017\n",
      "Somando os valores e organizando-os\n",
      "Organizando os dados no formato JSON\n",
      "Gravando os dados em um arquivo JSON\n",
      "valor_edital_2017.json gerado\n",
      "Iniciando extração do ano 2018\n",
      "Somando os valores e organizando-os\n",
      "Organizando os dados no formato JSON\n",
      "Gravando os dados em um arquivo JSON\n",
      "valor_edital_2018.json gerado\n",
      "Terminado\n"
     ]
    }
   ],
   "source": [
    "import pandas as pd\n",
    "import numpy as np\n",
    "ano = 2016\n",
    "for i in range(3):\n",
    "    print(\"Iniciando extração do ano \"+str(ano));\n",
    "    data = 'bases/export_transparencia_'+str(ano)+'.csv'\n",
    "    dataset = pd.read_csv(data, sep=\";\")\n",
    "    dataset['Preco_Maximo'] = dataset['Preco_Maximo'].apply(lambda x: 0.0 if(x=='-') else float(x))\n",
    "\n",
    "    print(\"Somando os valores e organizando-os\")\n",
    "    compras = dataset.groupby(['UG_Sigla', 'Edital/Registro', 'Objeto', 'Empresa', 'Situacao_Objeto','Preco_Maximo'])['Preco_Maximo']\n",
    "    compras = compras.agg('sum')\n",
    "    grupos = compras.sort_values()\n",
    "    \n",
    "    print(\"Organizando os dados no formato JSON\")\n",
    "    t = dict(grupos)\n",
    "    dados = []\n",
    "    for i in t.keys():\n",
    "        dados.append({'ano': str(ano),'sigla':i[0], 'edital':i[1], 'objeto':i[2], 'empresa': i[3], 'situacao':i[4], 'valor':i[5]})\n",
    "  \n",
    "    import json \n",
    "    print(\"Gravando os dados em um arquivo JSON\")\n",
    "    with open('json_edital/valor_edital_'+str(ano)+'.json', 'w', encoding='utf-8') as file:\n",
    "        json.dump(dados, file,  ensure_ascii=False)\n",
    "\n",
    "    print(\"valor_edital_\"+str(ano)+\".json gerado\")\n",
    "    ano = ano + 1\n",
    "print(\"Terminado\")  \n",
    "    "
   ]
  }
 ],
 "metadata": {
  "kernelspec": {
   "display_name": "Python 3",
   "language": "python",
   "name": "python3"
  },
  "language_info": {
   "codemirror_mode": {
    "name": "ipython",
    "version": 3
   },
   "file_extension": ".py",
   "mimetype": "text/x-python",
   "name": "python",
   "nbconvert_exporter": "python",
   "pygments_lexer": "ipython3",
   "version": "3.6.6"
  }
 },
 "nbformat": 4,
 "nbformat_minor": 2
}
