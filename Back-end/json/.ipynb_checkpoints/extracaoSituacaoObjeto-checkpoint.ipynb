{
 "cells": [
  {
   "cell_type": "code",
   "execution_count": 2,
   "metadata": {},
   "outputs": [
    {
     "name": "stdout",
     "output_type": "stream",
     "text": [
      "Extração concluída\n"
     ]
    }
   ],
   "source": [
    "import pandas as pd\n",
    "import numpy as np\n",
    "data = 'https://raw.githubusercontent.com/FernandoGurgel/propina-no-more/master/bases/export_transparencia_2018.csv'\n",
    "dataset = pd.read_csv(data, sep=\";\")\n",
    "print(\"Extração concluída\")\n",
    "\n",
    "\n",
    "\n",
    "# import json\n",
    "# with open('dadosOrgaos2018.json', 'w', encoding='utf-8') as file:\n",
    "#     teste.to_json(file, force_ascii=False)\n",
    "    \n",
    "# print(\"Arquivo de 2018 salvo com sucesso!\")"
   ]
  },
  {
   "cell_type": "code",
   "execution_count": 9,
   "metadata": {},
   "outputs": [
    {
     "ename": "TypeError",
     "evalue": "'DataFrame' object is not callable",
     "output_type": "error",
     "traceback": [
      "\u001b[0;31m---------------------------------------------------------------------------\u001b[0m",
      "\u001b[0;31mTypeError\u001b[0m                                 Traceback (most recent call last)",
      "\u001b[0;32m<ipython-input-9-3e40a56b8009>\u001b[0m in \u001b[0;36m<module>\u001b[0;34m()\u001b[0m\n\u001b[0;32m----> 1\u001b[0;31m \u001b[0mdataset\u001b[0m\u001b[0;34m[\u001b[0m\u001b[0mdataset\u001b[0m\u001b[0;34m(\u001b[0m\u001b[0;34m'UG_Sigla'\u001b[0m\u001b[0;34m)\u001b[0m\u001b[0;34m]\u001b[0m\u001b[0;34m\u001b[0m\u001b[0m\n\u001b[0m",
      "\u001b[0;31mTypeError\u001b[0m: 'DataFrame' object is not callable"
     ]
    }
   ],
   "source": [
    "dataset[dataset('UG_Sigla')]"
   ]
  },
  {
   "cell_type": "code",
   "execution_count": null,
   "metadata": {},
   "outputs": [],
   "source": []
  },
  {
   "cell_type": "code",
   "execution_count": null,
   "metadata": {},
   "outputs": [],
   "source": [
    "unidades = dataset['UG_Sigla']\n",
    "teste = dataset.groupby(['UG_Sigla','UG_Nome'])['UG_Sigla','UG_Nome']"
   ]
  },
  {
   "cell_type": "code",
   "execution_count": null,
   "metadata": {},
   "outputs": [],
   "source": [
    "t = dict(teste.count()['UG_Sigla'])\n",
    "t"
   ]
  },
  {
   "cell_type": "code",
   "execution_count": null,
   "metadata": {},
   "outputs": [],
   "source": [
    "dados = []\n",
    "# d = [{'sigla': 'AAD', 'nome': 'FUNDO'}, {'sigla': 'AAD', 'nome': 'FUNDO'}]\n",
    "# d\n",
    "for i in t.keys():\n",
    "    dados.append({'sigla': i[0], 'nome': i[1]}) \n",
    "#     print(i[1])\n",
    "\n",
    "type(dados)\n",
    "\n",
    "import json\n",
    "\n",
    "# orgaos = json.dumps(dados)\n",
    "\n",
    "with open('orgaos.json', 'w', encoding='utf-8') as file:\n",
    "    json.dump(dados, file,  ensure_ascii=False)\n",
    "  \n",
    "    \n",
    "print(\"Arquivo de Órgãos salvo com sucesso!\")"
   ]
  },
  {
   "cell_type": "code",
   "execution_count": null,
   "metadata": {},
   "outputs": [],
   "source": []
  },
  {
   "cell_type": "code",
   "execution_count": null,
   "metadata": {},
   "outputs": [],
   "source": []
  }
 ],
 "metadata": {
  "kernelspec": {
   "display_name": "Python 3",
   "language": "python",
   "name": "python3"
  },
  "language_info": {
   "codemirror_mode": {
    "name": "ipython",
    "version": 3
   },
   "file_extension": ".py",
   "mimetype": "text/x-python",
   "name": "python",
   "nbconvert_exporter": "python",
   "pygments_lexer": "ipython3",
   "version": "3.6.5"
  }
 },
 "nbformat": 4,
 "nbformat_minor": 2
}
