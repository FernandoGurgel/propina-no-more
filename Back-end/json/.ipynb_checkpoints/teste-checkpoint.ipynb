{
 "cells": [
  {
   "cell_type": "code",
   "execution_count": 2,
   "metadata": {},
   "outputs": [
    {
     "name": "stdout",
     "output_type": "stream",
     "text": [
      "Extração concluída\n"
     ]
    }
   ],
   "source": [
    "import pandas as pd\n",
    "import numpy as np\n",
    "data = 'https://raw.githubusercontent.com/FernandoGurgel/propina-no-more/master/bases/export_transparencia_2018.csv'\n",
    "dataset = pd.read_csv(data, sep=\";\")\n",
    "print(\"Extração concluída\")\n",
    "\n",
    "# import json\n",
    "# with open('dadosOrgaos2016.json', 'w', encoding='utf-8') as file:\n",
    "#     teste.to_json(file, force_ascii=False)\n",
    "# print(\"Arquivo de 2016 salvo com sucesso!\")"
   ]
  },
  {
   "cell_type": "code",
   "execution_count": 72,
   "metadata": {},
   "outputs": [
    {
     "ename": "AttributeError",
     "evalue": "Cannot access callable attribute 'to_json' of 'DataFrameGroupBy' objects, try using the 'apply' method",
     "output_type": "error",
     "traceback": [
      "\u001b[0;31m---------------------------------------------------------------------------\u001b[0m",
      "\u001b[0;31mAttributeError\u001b[0m                            Traceback (most recent call last)",
      "\u001b[0;32m<ipython-input-72-88655355b038>\u001b[0m in \u001b[0;36m<module>\u001b[0;34m()\u001b[0m\n\u001b[1;32m      9\u001b[0m \u001b[0;32mimport\u001b[0m \u001b[0mjson\u001b[0m\u001b[0;34m\u001b[0m\u001b[0m\n\u001b[1;32m     10\u001b[0m \u001b[0;32mwith\u001b[0m \u001b[0mopen\u001b[0m\u001b[0;34m(\u001b[0m\u001b[0;34m'orgaos.json'\u001b[0m\u001b[0;34m,\u001b[0m \u001b[0;34m'w'\u001b[0m\u001b[0;34m,\u001b[0m \u001b[0mencoding\u001b[0m\u001b[0;34m=\u001b[0m\u001b[0;34m'utf-8'\u001b[0m\u001b[0;34m)\u001b[0m \u001b[0;32mas\u001b[0m \u001b[0mfile\u001b[0m\u001b[0;34m:\u001b[0m\u001b[0;34m\u001b[0m\u001b[0m\n\u001b[0;32m---> 11\u001b[0;31m     \u001b[0mteste\u001b[0m\u001b[0;34m.\u001b[0m\u001b[0mto_json\u001b[0m\u001b[0;34m(\u001b[0m\u001b[0mfile\u001b[0m\u001b[0;34m,\u001b[0m \u001b[0mforce_ascii\u001b[0m\u001b[0;34m=\u001b[0m\u001b[0;32mFalse\u001b[0m\u001b[0;34m)\u001b[0m\u001b[0;34m\u001b[0m\u001b[0m\n\u001b[0m\u001b[1;32m     12\u001b[0m \u001b[0mprint\u001b[0m\u001b[0;34m(\u001b[0m\u001b[0;34m\"Arquivo de 2016 salvo com sucesso!\"\u001b[0m\u001b[0;34m)\u001b[0m\u001b[0;34m\u001b[0m\u001b[0m\n",
      "\u001b[0;32m~/anaconda3/lib/python3.6/site-packages/pandas/core/groupby/groupby.py\u001b[0m in \u001b[0;36m__getattr__\u001b[0;34m(self, attr)\u001b[0m\n\u001b[1;32m    760\u001b[0m             \u001b[0;32mreturn\u001b[0m \u001b[0mself\u001b[0m\u001b[0;34m[\u001b[0m\u001b[0mattr\u001b[0m\u001b[0;34m]\u001b[0m\u001b[0;34m\u001b[0m\u001b[0m\n\u001b[1;32m    761\u001b[0m         \u001b[0;32mif\u001b[0m \u001b[0mhasattr\u001b[0m\u001b[0;34m(\u001b[0m\u001b[0mself\u001b[0m\u001b[0;34m.\u001b[0m\u001b[0mobj\u001b[0m\u001b[0;34m,\u001b[0m \u001b[0mattr\u001b[0m\u001b[0;34m)\u001b[0m\u001b[0;34m:\u001b[0m\u001b[0;34m\u001b[0m\u001b[0m\n\u001b[0;32m--> 762\u001b[0;31m             \u001b[0;32mreturn\u001b[0m \u001b[0mself\u001b[0m\u001b[0;34m.\u001b[0m\u001b[0m_make_wrapper\u001b[0m\u001b[0;34m(\u001b[0m\u001b[0mattr\u001b[0m\u001b[0;34m)\u001b[0m\u001b[0;34m\u001b[0m\u001b[0m\n\u001b[0m\u001b[1;32m    763\u001b[0m \u001b[0;34m\u001b[0m\u001b[0m\n\u001b[1;32m    764\u001b[0m         raise AttributeError(\"%r object has no attribute %r\" %\n",
      "\u001b[0;32m~/anaconda3/lib/python3.6/site-packages/pandas/core/groupby/groupby.py\u001b[0m in \u001b[0;36m_make_wrapper\u001b[0;34m(self, name)\u001b[0m\n\u001b[1;32m    797\u001b[0m                    \"using the 'apply' method\".format(kind, name,\n\u001b[1;32m    798\u001b[0m                                                      type(self).__name__))\n\u001b[0;32m--> 799\u001b[0;31m             \u001b[0;32mraise\u001b[0m \u001b[0mAttributeError\u001b[0m\u001b[0;34m(\u001b[0m\u001b[0mmsg\u001b[0m\u001b[0;34m)\u001b[0m\u001b[0;34m\u001b[0m\u001b[0m\n\u001b[0m\u001b[1;32m    800\u001b[0m \u001b[0;34m\u001b[0m\u001b[0m\n\u001b[1;32m    801\u001b[0m         \u001b[0mself\u001b[0m\u001b[0;34m.\u001b[0m\u001b[0m_set_group_selection\u001b[0m\u001b[0;34m(\u001b[0m\u001b[0;34m)\u001b[0m\u001b[0;34m\u001b[0m\u001b[0m\n",
      "\u001b[0;31mAttributeError\u001b[0m: Cannot access callable attribute 'to_json' of 'DataFrameGroupBy' objects, try using the 'apply' method"
     ]
    }
   ],
   "source": [
    "unidades = dataset['UG_Sigla']\n",
    "teste = dataset.groupby(['UG_Sigla','UG_Nome'])\n",
    "\n",
    "x = {\"nome\":\"\"}\n",
    "\n",
    "\n",
    "    \n",
    "\n",
    "import json\n",
    "with open('orgaos.json', 'w', encoding='utf-8') as file:\n",
    "    teste.to_json(file, force_ascii=False)\n",
    "print(\"Arquivo de 2016 salvo com sucesso!\")"
   ]
  },
  {
   "cell_type": "code",
   "execution_count": 48,
   "metadata": {},
   "outputs": [
    {
     "data": {
      "text/plain": [
       "[('AADC', 'AGÊNCIA AMAZONENSE DE DESENVOLVIMENTO CULTURAL'),\n",
       " ('AADES', 'AGÊNCIA AMAZONENSE DE DESENVOLVIMENTO ECONÔMICO E SOCIAL'),\n",
       " ('ADAF', 'AGÊNCIA DE DEFESA AGROPECUÁRIA E FLORESTAL DO ESTADO DO AMAZONAS'),\n",
       " ('ADFEAM', 'AGÊNCIA DE DESENVOLVIMENTO E FOMENTO DO ESTADO DO AMAZONAS'),\n",
       " ('AMAZONASTUR', 'EMPRESA ESTADUAL DE TURISMO DO AMAZONAS'),\n",
       " ('AMAZONPREV', 'FUNDAÇÃO FUNDO PREVIDENCIÁRIO DO ESTADO DO AMAZONAS'),\n",
       " ('ARSAM',\n",
       "  'AGÊNCIA REGULADORA DOS SERVIÇOS PÚBLICOS CONCEDIDOS DO ESTADO DO AMAZONAS'),\n",
       " ('CASA CIVIL', 'SECRETARIA DE ESTADO DA CASA CIVIL'),\n",
       " ('CASA MILITAR', 'SECRETARIA DE ESTADO DA CASA MILITAR'),\n",
       " ('CBMAM', 'CORPO DE BOMBEIROS MILITAR DO AMAZONAS'),\n",
       " ('CEMA', 'CENTRAL DE MEDICAMENTOS DA SECRETARIA DE ESTADO DA SAÚDE DO AM'),\n",
       " ('CETAM', 'CENTRO DE EDUCAÇÁO TECNOLÓGICA DO AMAZONAS'),\n",
       " ('CGE', 'CONTROLADORIA GERAL DO ESTADO'),\n",
       " ('CGL', 'COMISSÃO GERAL DE LICITAÇÃO DO PODER EXECUTIVO'),\n",
       " ('CHAPOT PREVOST', 'HOSPITAL DE ISOLAMENTO CHAPOT PREVOST'),\n",
       " ('CPER', 'CENTRO PSIQUIÁTRICO EDUARDO RIBEIRO'),\n",
       " ('DEFESA CIVIL', 'SUBCOMANDO DE AÇÕES DE DEFESA CIVIL'),\n",
       " ('DETRAN-AM', 'DEPARTAMENTO ESTADUAL DE TRÂNSITO'),\n",
       " ('ERGSP', 'ESCRITÓRIO DE REPRESENTAÇÃO DO GOVERNO EM SÃO PAULO'),\n",
       " ('FAPEAM', 'FUNDAÇÃO DE AMPARO À PESQUISA DO ESTADO DO AMAZONAS'),\n",
       " ('FCECON', 'FUNDAÇÃO CENTRO DE CONTROLE DE ONCOLOGIA DO ESTADO DO AMAZONAS'),\n",
       " ('FEAS', 'FUNDO ESTADUAL DE ASSISTÊNCIA SOCIAL'),\n",
       " ('FECA', 'FUNDO ESTADUAL DA CRIANÇA E DO ADOLESCENTE'),\n",
       " ('FEEL', 'FUNDO ESTADUAL DE ESPORTE E LAZER'),\n",
       " ('FEI', 'FUNDAÇÃO ESTADUAL DO ÍNDIO'),\n",
       " ('FERF', 'FUNDO ESTADUAL DE REGULARIZAÇÃO FUNDIÁRIA'),\n",
       " ('FERH', 'FUNDO ESTADUAL DE RECURSOS HÍDRICOS'),\n",
       " ('FES', 'FUNDO ESTADUAL DE SAÚDE'),\n",
       " ('FHAJ', 'FUNDAÇÃO HOSPITAL ADRIANO JORGE'),\n",
       " ('FHEMOAM', 'FUNDAÇÃO DE HEMATOLOGIA E HEMOTERAPIA DO AMAZONAS'),\n",
       " ('FMT', 'FUNDAÇÃO DE MEDICINA TROPICAL ``DOUTOR HEITOR VIEIRA DOURADO``'),\n",
       " ('FPEAM', 'FUNDO PENITENCIÁRIO DO ESTADO DO AMAZONAS'),\n",
       " ('FRAI-SSP', 'FUNDO DE RESERVA PARA AÇÕES DE INTELIGÊNCIA'),\n",
       " ('FUAM', 'FUNDAÇÃO DE DERMATOLOGIA TROPICAL E VENEREOLOGIA ALFREDO DA MATTA'),\n",
       " ('FUNDECC', 'FUNDO ESTADUAL DE DEFESA DO CONSUMIDOR'),\n",
       " ('FUNDO SEFAZ', 'FUNDO PARA FINANCIAMENTO DA MODERNIZAÇÃO'),\n",
       " ('FUNDPGE',\n",
       "  'FUNDO ESPECIAL DA PROCURADORIA GERAL DO ESTADO DO AMAZONAS - FUNDPGE'),\n",
       " ('FUNESBOM', 'FUNDO ESPECIAL DO CORPO DE BOMBEIROS MILITAR DO AMAZONAS'),\n",
       " ('FUNTEC', 'FUNDAÇÃO TELEVISÃO E RÁDIO CULTURA DO AMAZONAS'),\n",
       " ('FVS/AM', 'FUNDAÇÃO DE VIGILÂNCIA EM SAÚDE DO ESTADO DO AMAZONAS'),\n",
       " ('H. I. Dr Fajardo', 'HOSPITAL INFANTIL DR. FAJARDO'),\n",
       " ('HGGR', 'HOSPITAL GERAL DR. GERALDO DA ROCHA'),\n",
       " ('HPS JLUCIO', 'HOSPITAL E PRONTO SOCORRO DR. JOÃO LÚCIO PEREIRA MACHADO'),\n",
       " ('HPSC  LESTE', 'HOSPITAL E PRONTO SOCORRO DA CRIANÇA - ZONA LESTE'),\n",
       " ('HPSC OESTE', 'HOSPITAL E PRONTO SOCORRO DA CRIANÇA - ZONA OESTE'),\n",
       " ('ICAM', 'INSTITUTO DE SAÚDE DA CRIANÇA DO AMAZONAS'),\n",
       " ('IDAM',\n",
       "  'INSTITUTO DE DESENVOLVIMENTO AGROPECUÁRIO E FLORESTAL SUSTENTÁVEL DO ESTADO DO AMAZONAS'),\n",
       " ('IM', 'INSTITUTO DA MULHER'),\n",
       " ('IMPEAM', 'IMPRENSA OFICIAL DO ESTADO DO AMAZONAS'),\n",
       " ('IPAAM', 'INSTITUTO DE PROTEÇÃO AMBIENTAL DO ESTADO DO AMAZONAS'),\n",
       " ('IPEM', 'INSTITUTO DE PESOS E MEDIDAS'),\n",
       " ('JUCEA', 'JUNTA COMERCIAL DO ESTADO'),\n",
       " ('MAT ANA BRAGA',\n",
       "  'MATERNIDADE DE REFERÊNCIA DA ZONA LESTE DE MANAUS - ANA BRAGA'),\n",
       " ('MATERNIDADE ALVORADA', 'MATERNIDADE ALVORADA - CAMI I'),\n",
       " ('MATERNIDADE AZILDA MARREIRO', 'MATERNIDADE AZILDA MARREIRO'),\n",
       " ('MATERNIDADE BALBINA', 'MATERNIDADE BALBINA MESTRINHO'),\n",
       " ('MATERNIDADE NAZIRA DAOU', 'MATERNIDADE DONA NAZIRA DAOU - CAMI II'),\n",
       " ('OUVIDORIA', 'OUVIDORIA GERAL DO ESTADO'),\n",
       " ('PAM CENTRO', 'POLICLÍNICA GOVERNADOR GILBERTO MESTRINHO'),\n",
       " ('PAM CODAJAS', 'POSTO DE ASSISTÊNCIA MÉDICO - PAM CODAJAS'),\n",
       " ('PGE', 'PROCURADORIA GERAL DO ESTADO'),\n",
       " ('PLAALX', 'POLICLÍNICA ANTONIO ALEIXO'),\n",
       " ('POLICLINICA ZENO LANZINI', 'POLICLINICA ZENO LANZINE'),\n",
       " ('POLICLÍNICA DANILO CORREA', 'SPA E POLICLÍNICA DR. DANILO CORRÊA'),\n",
       " ('POLICLÍNICA JOSÉ LINS',\n",
       "  'SERVIÇO DE PRONTO ATENDIMENTO E POLICLINICA DR. JOSE DE JESUS LINS'),\n",
       " ('POLICLÍNICA JOÃO BRAGA', 'POLICLINICA JOAO DOS SANTOS BRAGA'),\n",
       " ('POLÍCIA CIVIL', 'POLÍCIA CIVIL DO ESTADO DO AMAZONAS'),\n",
       " ('POLÍCIA MILITAR', 'POLÍCIA MILITAR DO AMAZONAS'),\n",
       " ('PS 28 AGOSTO', 'PRONTO SOCORRO 28 DE AGOSTO'),\n",
       " ('PSC  SUL', 'PRONTO SOCORRO DA CRIANÇA - ZONA SUL'),\n",
       " ('SEAD', 'SECRETARIA DE ESTADO DE ADMINISTRAÇÃO E GESTÃO'),\n",
       " ('SEAP', 'SECRETARIA DE ESTADO DE ADMINISTRAÇÃO PENITENCIÁRIA'),\n",
       " ('SEAS', 'SECRETARIA DE ESTADO DE ASSISTÊNCIA SOCIAL'),\n",
       " ('SEC', 'SECRETARIA DE ESTADO DE CULTURA'),\n",
       " ('SECOM', 'SECRETARIA DE ESTADO DE COMUNICAÇÃO SOCIAL'),\n",
       " ('SEDUC', 'SECRETARIA DE ESTADO DE EDUCAÇÃO E QUALIDADE DO ENSINO'),\n",
       " ('SEFAZ', 'SECRETARIA DE ESTADO DA FAZENDA'),\n",
       " ('SEFAZ  ENCARGOS',\n",
       "  'SECRETARIA DE ESTADO DA FAZENDA - SEFAZ - ENCARGOS GERAIS DO ESTADO'),\n",
       " ('SEINF', 'SECRETARIA DE ESTADO DE INFRA-ESTRUTURA'),\n",
       " ('SEJEL', 'SECRETARIA DE ESTADO DA JUVENTUDE, ESPORTE E LAZER'),\n",
       " ('SEJUSC', 'SECRETARIA DE ESTADO DE JUSTIÇA , DIREITOS HUMANOS E CIDADANIA'),\n",
       " ('SEMA', 'SECRETARIA DE ESTADO DO MEIO AMBIENTE'),\n",
       " ('SEPED', 'SECRETARIA DE ESTADO DOS DIREITOS DA PESSOA COM DEFICIÊNCIA'),\n",
       " ('SEPLANCTI',\n",
       "  'SECRETARIA DE ESTADO DE PLANEJAMENTO, DESENVOLVIMENTO, CIÊNCIA, TECNOLOGIA E INOVAÇÃO'),\n",
       " ('SEPROR', 'SECRETARIA DE ESTADO DE PRODUÇÃO RURAL'),\n",
       " ('SERINS',\n",
       "  'SECRETARIA DE ESTADO DE RELAÇÕES INSTITUCIONAIS E REPRES. DO AMAZONAS'),\n",
       " ('SETRAB', 'SECRETARIA DE ESTADO DO TRABALHO'),\n",
       " ('SNPH', 'SUPERINTENDENCIA  ESTADUAL DE NAVEGAÇÃO PORTOS E HIDROVIAS'),\n",
       " ('SPA ALVORADA', 'SERVIÇO DE PRONTO ATENDIMENTO - ALVORADA'),\n",
       " ('SPA COROADO', 'SERVIÇO DE PRONTO ATENDIMENTO - COROADO'),\n",
       " ('SPA E HOSPITAL DR. PLATÃO',\n",
       "  'SPA E HOSPITAL DR. ARISTOTELES PLATÃO BEZERRA DE ARAUJO'),\n",
       " ('SPA ELIAMEME RODRIGUES MADY',\n",
       "  'SERVIÇO DE PRONTO ATENDIMENTO ELIAMEME RODRIGUES MADY'),\n",
       " ('SPA JOVENTINA DIAS', 'SERVIÇO DE PRONTO ATENDIMENTO - JOVENTINA DIAS'),\n",
       " ('SPA SÃO RAIMUNDO', 'SERVIÇO DE PRONTO ATENDIMENTO - SÃO RAIMUNDO'),\n",
       " ('SPA ZONA SUL', 'SERVIÇO DE PRONTO ATENDIMENTO - ZONA SUL'),\n",
       " ('SPF', 'SECRETARIA DE ESTADO DE POLÍTICA FUNDIÁRIA'),\n",
       " ('SRMM',\n",
       "  'SECRETARIA DE ESTADO DE DESENVOLVIMENTO DA REGIÃO METROPOLITANA DE MANAUS'),\n",
       " ('SSP', 'SECRETARIA DE ESTADO DE SEGURANÇA PÚBLICA'),\n",
       " ('SUHAB', 'SUPERINTENDÊNCIA ESTADUAL DE HABITAÇÃO - SUHAB'),\n",
       " ('SUSAM', 'SECRETARIA DE ESTADO DE SAÚDE'),\n",
       " ('UEA', 'UNIVERSIDADE DO ESTADO DO AMAZONAS'),\n",
       " ('UGPE', 'UNIDADE GESTORA DE PROJETOS ESPECIAIS'),\n",
       " ('VICE-GOVERNADORIA', 'VICE-GOVERNADORIA  - SECRETARIA EXECUTIVA')]"
      ]
     },
     "execution_count": 48,
     "metadata": {},
     "output_type": "execute_result"
    }
   ],
   "source": [
    "a\n"
   ]
  },
  {
   "cell_type": "code",
   "execution_count": 42,
   "metadata": {},
   "outputs": [
    {
     "data": {
      "text/plain": [
       "Index(['Edital/Registro', 'UG', 'UG_Sigla', 'UG_Nome', 'Objeto',\n",
       "       'Situacao_Objeto', 'Item', 'Nome_Item', 'Situacao_Item', 'Unidade',\n",
       "       'Quantidade_licitada_Item', 'Preco_Maximo', 'Empresa'],\n",
       "      dtype='object')"
      ]
     },
     "execution_count": 42,
     "metadata": {},
     "output_type": "execute_result"
    }
   ],
   "source": [
    "dataset.columns"
   ]
  }
 ],
 "metadata": {
  "kernelspec": {
   "display_name": "Python 3",
   "language": "python",
   "name": "python3"
  },
  "language_info": {
   "codemirror_mode": {
    "name": "ipython",
    "version": 3
   },
   "file_extension": ".py",
   "mimetype": "text/x-python",
   "name": "python",
   "nbconvert_exporter": "python",
   "pygments_lexer": "ipython3",
   "version": "3.6.5"
  }
 },
 "nbformat": 4,
 "nbformat_minor": 2
}
