{
 "cells": [
  {
   "cell_type": "code",
   "execution_count": null,
   "metadata": {},
   "outputs": [],
   "source": [
    "import pandas as pd\n",
    "import numpy as np\n",
    "data = 'https://raw.githubusercontent.com/FernandoGurgel/propina-no-more/master/bases/export_transparencia_2018.csv'\n",
    "dataset = pd.read_csv(data, sep=\";\")\n",
    "print(\"Extração concluída\")\n",
    "\n",
    "\n",
    "\n",
    "# import json\n",
    "# with open('dadosOrgaos2018.json', 'w', encoding='utf-8') as file:\n",
    "#     teste.to_json(file, force_ascii=False)\n",
    "    \n",
    "# print(\"Arquivo de 2018 salvo com sucesso!\")"
   ]
  },
  {
   "cell_type": "code",
   "execution_count": null,
   "metadata": {},
   "outputs": [],
   "source": [
    "unidades = dataset['UG_Sigla']\n",
    "teste = dataset.groupby(['UG_Sigla','Situacao_Objeto'])['UG_Sigla','Situacao_Objeto']\n",
    "\n",
    "t = dict(teste.count()['UG_Sigla'])\n",
    "t\n",
    "\n",
    "dados = []\n",
    "# d = [{'sigla': 'AAD', 'nome': 'FUNDO'}, {'sigla': 'AAD', 'nome': 'FUNDO'}]\n",
    "# d\n",
    "for i in t.keys():\n",
    "    dados.append({'sigla': i[0], 'status': i[1]}) \n",
    "#     print(i[1])\n",
    "\n",
    "type(dados)\n",
    "\n",
    "import json\n",
    "\n",
    "# orgaos = json.dumps(dados)\n",
    "\n",
    "with open('orgaos_status.json', 'w', encoding='utf-8') as file:\n",
    "    json.dump(dados, file,  ensure_ascii=False)\n",
    "  \n",
    "    \n",
    "print(\"Arquivo de Órgãos salvo com sucesso!\")"
   ]
  },
  {
   "cell_type": "code",
   "execution_count": null,
   "metadata": {},
   "outputs": [],
   "source": [
    "unidades = dataset['UG_Sigla']\n",
    "teste = dataset.groupby(['UG_Sigla','Preco_Maximo'])['UG_Sigla','Preco_Maximo']\n",
    "\n",
    "t = dict(teste.count()['UG_Sigla'])\n",
    "t\n",
    "\n",
    "dados = []\n",
    "# d = [{'sigla': 'AAD', 'nome': 'FUNDO'}, {'sigla': 'AAD', 'nome': 'FUNDO'}]\n",
    "# d\n",
    "for i in t.keys():\n",
    "    dados.append({'sigla': i[0], 'valor': i[1]}) \n",
    "#     print(i[1])\n",
    "\n",
    "type(dados)\n",
    "\n",
    "import json\n",
    "\n",
    "# orgaos = json.dumps(dados)\n",
    "\n",
    "with open('valor_edital.json', 'w', encoding='utf-8') as file:\n",
    "    json.dump(dados, file,  ensure_ascii=False)\n",
    "  \n",
    "    \n",
    "print(\"Arquivo de Órgãos salvo com sucesso!\")"
   ]
  },
  {
   "cell_type": "code",
   "execution_count": null,
   "metadata": {},
   "outputs": [],
   "source": []
  }
 ],
 "metadata": {
  "kernelspec": {
   "display_name": "Python 3",
   "language": "python",
   "name": "python3"
  },
  "language_info": {
   "codemirror_mode": {
    "name": "ipython",
    "version": 3
   },
   "file_extension": ".py",
   "mimetype": "text/x-python",
   "name": "python",
   "nbconvert_exporter": "python",
   "pygments_lexer": "ipython3",
   "version": "3.6.5"
  }
 },
 "nbformat": 4,
 "nbformat_minor": 2
}
