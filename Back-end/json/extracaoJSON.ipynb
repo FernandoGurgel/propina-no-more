{
 "cells": [
  {
   "cell_type": "code",
   "execution_count": 10,
   "metadata": {},
   "outputs": [
    {
     "name": "stdout",
     "output_type": "stream",
     "text": [
      "Iniciando extração\n",
      "Extração concluída\n"
     ]
    }
   ],
   "source": [
    "import pandas as pd\n",
    "import numpy as np\n",
    "print(\"Iniciando extração\")\n",
    "data = 'https://raw.githubusercontent.com/FernandoGurgel/propina-no-more/master/bases/export_transparencia_2018.csv'\n",
    "dataset = pd.read_csv(data, sep=\";\")\n",
    "print(\"Extração concluída\")\n"
   ]
  },
  {
   "cell_type": "code",
   "execution_count": 6,
   "metadata": {},
   "outputs": [
    {
     "name": "stdout",
     "output_type": "stream",
     "text": [
      "Arquivo de Órgãos salvo com sucesso!\n"
     ]
    }
   ],
   "source": [
    "unidades = dataset['UG_Sigla']\n",
    "teste = dataset.groupby(['UG_Sigla','UG_Nome'])['UG_Sigla','UG_Nome']\n",
    "\n",
    "t = dict(teste.count()['UG_Sigla'])\n",
    "t\n",
    "\n",
    "dados = []\n",
    "# d = [{'sigla': 'AAD', 'nome': 'FUNDO'}, {'sigla': 'AAD', 'nome': 'FUNDO'}]\n",
    "# d\n",
    "for i in t.keys():\n",
    "    dados.append({'sigla': i[0], 'nome': i[1]}) \n",
    "#     print(i[1])\n",
    "\n",
    "type(dados)\n",
    "\n",
    "import json\n",
    "\n",
    "# orgaos = json.dumps(dados)\n",
    "\n",
    "with open('orgao_nome.json', 'w', encoding='utf-8') as file:\n",
    "    json.dump(dados, file,  ensure_ascii=False)\n",
    "  \n",
    "    \n",
    "print(\"Arquivo de Órgãos salvo com sucesso!\")"
   ]
  },
  {
   "cell_type": "code",
   "execution_count": 7,
   "metadata": {},
   "outputs": [
    {
     "name": "stdout",
     "output_type": "stream",
     "text": [
      "Arquivo de Órgãos salvo com sucesso!\n"
     ]
    }
   ],
   "source": [
    "unidades = dataset['UG_Sigla']\n",
    "teste = dataset.groupby(['UG_Sigla','Situacao_Objeto'])['UG_Sigla','Situacao_Objeto']\n",
    "\n",
    "t = dict(teste.count()['UG_Sigla'])\n",
    "t\n",
    "\n",
    "dados = []\n",
    "# d = [{'sigla': 'AAD', 'nome': 'FUNDO'}, {'sigla': 'AAD', 'nome': 'FUNDO'}]\n",
    "# d\n",
    "for i in t.keys():\n",
    "    dados.append({'sigla': i[0], 'status': i[1]}) \n",
    "#     print(i[1])\n",
    "\n",
    "type(dados)\n",
    "\n",
    "import json\n",
    "\n",
    "# orgaos = json.dumps(dados)\n",
    "\n",
    "with open('orgaos_status.json', 'w', encoding='utf-8') as file:\n",
    "    json.dump(dados, file,  ensure_ascii=False)\n",
    "  \n",
    "    \n",
    "print(\"Arquivo de Órgãos salvo com sucesso!\")"
   ]
  },
  {
   "cell_type": "code",
   "execution_count": 8,
   "metadata": {},
   "outputs": [
    {
     "name": "stdout",
     "output_type": "stream",
     "text": [
      "Arquivo de Órgãos salvo com sucesso!\n"
     ]
    }
   ],
   "source": [
    "unidades = dataset['UG_Sigla']\n",
    "teste = dataset.groupby(['UG_Sigla', 'Edital/Registro', 'Objeto', 'Preco_Maximo','Empresa'])['UG_Sigla','Edital/Registro', 'Objeto','Preco_Maximo','Empresa']\n",
    "\n",
    "t = dict(teste.count()['UG_Sigla'])\n",
    "t\n",
    "\n",
    "dados = []\n",
    "# d = [{'sigla': 'AAD', 'nome': 'FUNDO'}, {'sigla': 'AAD', 'nome': 'FUNDO'}]\n",
    "# d\n",
    "for i in t.keys():\n",
    "    dados.append({'sigla': i[0], 'edital': i[1], 'Objeto:': i[2], 'valor':i[3], 'empresa':i[4]}) \n",
    "#     print(i[1])\n",
    "\n",
    "type(dados)\n",
    "\n",
    "import json\n",
    "\n",
    "# orgaos = json.dumps(dados)\n",
    "\n",
    "with open('valor_edital.json', 'w', encoding='utf-8') as file:\n",
    "    json.dump(dados, file,  ensure_ascii=False)\n",
    "  \n",
    "    \n",
    "print(\"Arquivo de Órgãos salvo com sucesso!\")"
   ]
  },
  {
   "cell_type": "code",
   "execution_count": 9,
   "metadata": {
    "scrolled": false
   },
   "outputs": [
    {
     "name": "stdout",
     "output_type": "stream",
     "text": [
      "Iniciando extração\n",
      "Extração concluída\n",
      "Arquivo de Órgãos salvo com sucesso!\n"
     ]
    }
   ],
   "source": [
    "print(\"Iniciando extração\")\n",
    "data = 'https://raw.githubusercontent.com/FernandoGurgel/propina-no-more/master/bases/export_transparencia_2017.csv'\n",
    "dataset = pd.read_csv(data, sep=\";\")\n",
    "print(\"Extração concluída\")\n",
    "\n",
    "unidades = dataset['UG_Sigla']\n",
    "teste = dataset.groupby(['UG_Sigla', 'Edital/Registro', 'Objeto', 'Preco_Maximo','Empresa'])['UG_Sigla','Edital/Registro', 'Objeto','Preco_Maximo','Empresa']\n",
    "\n",
    "t = dict(teste.count()['UG_Sigla'])\n",
    "t\n",
    "\n",
    "dados = []\n",
    "# d = [{'sigla': 'AAD', 'nome': 'FUNDO'}, {'sigla': 'AAD', 'nome': 'FUNDO'}]\n",
    "# d\n",
    "for i in t.keys():\n",
    "    dados.append({'sigla': i[0], 'edital': i[1], 'Objeto:': i[2], 'valor':i[3], 'empresa':i[4]}) \n",
    "#     print(i[1])\n",
    "\n",
    "type(dados)\n",
    "\n",
    "import json\n",
    "\n",
    "# orgaos = json.dumps(dados)\n",
    "\n",
    "with open('valor_edital_2017.json', 'w', encoding='utf-8') as file:\n",
    "    json.dump(dados, file,  ensure_ascii=False)\n",
    "  \n",
    "    \n",
    "print(\"Arquivo de Órgãos salvo com sucesso!\")"
   ]
  }
 ],
 "metadata": {
  "kernelspec": {
   "display_name": "Python 3",
   "language": "python",
   "name": "python3"
  },
  "language_info": {
   "codemirror_mode": {
    "name": "ipython",
    "version": 3
   },
   "file_extension": ".py",
   "mimetype": "text/x-python",
   "name": "python",
   "nbconvert_exporter": "python",
   "pygments_lexer": "ipython3",
   "version": "3.7.0"
  }
 },
 "nbformat": 4,
 "nbformat_minor": 2
}
